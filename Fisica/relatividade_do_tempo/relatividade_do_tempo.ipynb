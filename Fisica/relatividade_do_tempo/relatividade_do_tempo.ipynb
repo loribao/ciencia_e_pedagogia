{
 "cells": [
  {
   "cell_type": "markdown",
   "metadata": {},
   "source": [
    "<hr>\n",
    "\n",
    "##### Objetivos: Apresentar de forma prática,o uso de um dentre vários métodos computacionais, com o objetivo de inspirar a inclusão digital como ferramenta pedagógica \n",
    "\n",
    "<hr>\n",
    "\n",
    "# Relatividade Restrita - Tempo\n",
    "\n",
    " - [x] Entender o tempo\n",
    " - [x] Equacionar o tempo relativo\n",
    " - [x] Graficar a dilatação temporal\n",
    " - [x] Exercitar nosso novo conhecimento\n",
    " \n",
    "- ### Ferramentas utilizadas\n",
    " - Linguagem de programação PYTHON \n",
    "     - SYMPY\n",
    "     - NUMPY \n",
    "     - MATPLOTLIB \n",
    "     \n",
    " - ALGEBRA BASICA\n",
    "    "
   ]
  },
  {
   "cell_type": "markdown",
   "metadata": {},
   "source": [
    "# Contextualizando:\n",
    "\n",
    "\n",
    "O físico Lorentz deduziu um sistema de equações para descrever coordenadas de um sistema em movimento com velocidade  $\\vec v$  em um eixo $x$ entre dois referenciais, o que Lorentz não percebeu ou ignorou foi que ele equacionou que para dois observadores em diferentes velocidades o tempo também é diferente, o fato de não perceber ou não acreditar nisso vem do objetivo inicial do qual as transformadas foram deduzidas, que era resolver uma nuvem de incongruência das Transformadas de Galileu e a Mecânica Newtoniana com as Equações de Maxwell, mas isso é assunto para outro artigo.\n",
    "\n",
    "Seguido de Lorentz veio Einstein e descreveu a dilatação do tempo como sendo uma consequência da não variança da luz no que ficou conhecido como **\"Postulado da Luz\"**\n",
    "\n",
    "Considere a seguinte situação:\n",
    "\n",
    "Um observador qualquer dentro de uma nave contendo um dispositivo que emite luz para um espelho no teto da nave que reflete a luz para baixo em direção de um detector de luz, a distância entre a fonte de luz e o espelho(teto) chamaremos de distância 'D', como a luz sobe e depois é refletida para o detector ela percorreu uma distância de **2*D**. Porem um observador qualquer do lado de fora da nave vê a luz se propagar na diagonal seguindo da fonte até o espelho e do espelho até o detector, formando um triangulo na visão do observador fora da nave.\n",
    "\n",
    "Se a velocidade da luz é a mesma para todos os observadores $ 299 792 458 m/s $ e a fórmula da velocidade é $$velocidade = \\frac{Distancia}{Tempo}$$ e a distância que ela percorreu foi diferente para os dois observadores, logo o tempo também tem que ter mudado para que a luz continue invariante."
   ]
  },
  {
   "cell_type": "markdown",
   "metadata": {},
   "source": [
    "<figure>\n",
    " <img src=\"./imagens/AV_01.png\" alt=\"Lorentz no trem e Einstein observando de maneira relativa\" title=\"Trem\" width=\"750\" height=\"750\" />\n",
    "</figure>"
   ]
  },
  {
   "cell_type": "markdown",
   "metadata": {},
   "source": [
    "- Velocidades: \n",
    "    - $$ \\frac{m}{s} $$\n",
    "- Distancias: \n",
    "    - $$ m $$\n",
    "- Tempo: \n",
    "    - $$ s $$\n",
    "\n",
    "Observador Lorentz:\n",
    "$$ 2 \\cdot D_m = c_\\frac{m}{s} \\cdot \\Delta t'_s $$\n",
    "\n",
    "Observador Einstein:  \n",
    "\n",
    "$$ 2 \\cdot l_m = c_\\frac{m}{s} \\cdot \\Delta t_s $$"
   ]
  },
  {
   "cell_type": "markdown",
   "metadata": {},
   "source": [
    "sendo $\\Delta t' $ o tempo medido por Lorentz e $\\Delta t $ o tempo medido por Einstein \n",
    "\n",
    "$𝐷$ :a distancia da fonte de luz ate o espelho vista por Lorentz(observador em movimento) \n",
    "\n",
    "$l$ :a distancia da luz da fonte ate o espelho vista por Einstein(observador inercial)"
   ]
  },
  {
   "cell_type": "markdown",
   "metadata": {},
   "source": [
    "### O TEMPO \n",
    "\n",
    "<hr>\n",
    "\n",
    "- Tempo é a duração relativa das coisas, que cria no ser humano a ideia de presente, passado e futuro\n",
    "- período contínuo no qual os eventos se sucedem."
   ]
  },
  {
   "cell_type": "markdown",
   "metadata": {},
   "source": [
    "### POSTULADO DA LUZ\n",
    "\n",
    "<hr>\n",
    "\n",
    "- As leis da Física,são as mesmas em todos os sistemas referenciais inerciais. \n",
    "    - Ou seja, não existe nenhum sistema de referência inercial preferencial.\n",
    "- A velocidade da luz no vácuo tem o mesmo valor $C$ para todos os sistemas referenciais inerciais.\n",
    "    - Todos que observam o mesmo feixe de luz vêem a mesma velocidade $C \\approx 299 792 458 m/s \\approx 300.000 km/s \\approx 1,079*10^9 km/h$\n",
    "   \n",
    "<hr>\n",
    " \n",
    " \n",
    "### Transformada de Lorentz :\n",
    "$$ t' = \\gamma \\cdot (t - \\frac{v\\cdot x}{c^2})$$\n",
    "$$ x' = \\gamma \\cdot (x - v \\cdot t) $$\n",
    "$$ y' = y $$\n",
    "$$ z' = z $$\n",
    "    \n",
    "    \n",
    "Onde:\n",
    "$$ \\gamma = \\frac{1}{\\sqrt{1-\\frac{v^2}{c^2}}}$$"
   ]
  },
  {
   "cell_type": "markdown",
   "metadata": {},
   "source": [
    "# Hora de codificar"
   ]
  },
  {
   "cell_type": "code",
   "execution_count": 1,
   "metadata": {},
   "outputs": [],
   "source": [
    "#SymPy é uma biblioteca Python para computação simbólica\n",
    "from __future__ import division\n",
    "import sympy as sp\n",
    "import numpy as np\n",
    "import matplotlib.pyplot as plt"
   ]
  },
  {
   "cell_type": "markdown",
   "metadata": {},
   "source": [
    "### EQUACIONANDO O TEMPO RELATIVO\n",
    "\n",
    "<hr>\n",
    "\n",
    "Teorema de Pitágoras: \n",
    "\n",
    "$$ H^{2} = CA^{2} + CO^{2} $$\n",
    "\n",
    "Juntando as equações: \n",
    "\n",
    "$$ H = l ; CA = L; CO = D$$ \n",
    "$$H = l = \\frac{c \\cdot \\Delta t}{2}  $$\n",
    "$$CA = L = \\frac{\\vec u \\cdot \\Delta t }{2}$$\n",
    "$$CO = D = \\frac{c \\cdot \\Delta t'}{2} $$"
   ]
  },
  {
   "cell_type": "code",
   "execution_count": 2,
   "metadata": {},
   "outputs": [
    {
     "name": "stdout",
     "output_type": "stream",
     "text": [
      " 2   2    2    2    2   2\n",
      "c ⋅Δt    c ⋅Δt'    u ⋅Δt \n",
      "────── = ─────── + ──────\n",
      "  4         4        4   \n"
     ]
    }
   ],
   "source": [
    "# variaveis\n",
    "Δt,Δtt = sp.symbols(\"Δt Δt'\")\n",
    "c,u = sp.symbols(\"c u\")\n",
    "#igualando as equações\n",
    "H = ((c*Δt)/2)\n",
    "CA = ((u*Δt)/2)\n",
    "CO = ((c*Δtt)/2)\n",
    "sp.pprint(sp.Eq(H**2,CO**2 + CA**2))"
   ]
  },
  {
   "cell_type": "code",
   "execution_count": 3,
   "metadata": {},
   "outputs": [
    {
     "data": {
      "text/latex": [
       "$\\displaystyle \\frac{c^{2} Δt^{2}}{4} - \\frac{u^{2} Δt^{2}}{4} = \\frac{c^{2} Δt'^{2}}{4}$"
      ],
      "text/plain": [
       "Eq(c**2*Δt**2/4 - u**2*Δt**2/4, c**2*Δt'**2/4)"
      ]
     },
     "execution_count": 3,
     "metadata": {},
     "output_type": "execute_result"
    }
   ],
   "source": [
    "#organizando os termos\n",
    "f = sp.Eq((H)**2 - (CA)**2,(CO)**2)\n",
    "f"
   ]
  },
  {
   "cell_type": "markdown",
   "metadata": {},
   "source": [
    "multiplicando os dois lados da igualdades por 4"
   ]
  },
  {
   "cell_type": "code",
   "execution_count": 4,
   "metadata": {},
   "outputs": [
    {
     "data": {
      "text/latex": [
       "$\\displaystyle c^{2} Δt^{2} - u^{2} Δt^{2} = c^{2} Δt'^{2}$"
      ],
      "text/plain": [
       "Eq(c**2*Δt**2 - u**2*Δt**2, c**2*Δt'**2)"
      ]
     },
     "execution_count": 4,
     "metadata": {},
     "output_type": "execute_result"
    }
   ],
   "source": [
    "f = sp.Eq(f.args[0] * 4,f.args[1]*4)\n",
    "f"
   ]
  },
  {
   "cell_type": "markdown",
   "metadata": {},
   "source": [
    "multiplicando os dois lados da igualdades por $ \\frac{1}{c^2} $"
   ]
  },
  {
   "cell_type": "code",
   "execution_count": 5,
   "metadata": {},
   "outputs": [
    {
     "data": {
      "text/latex": [
       "$\\displaystyle Δt^{2} - \\frac{u^{2} Δt^{2}}{c^{2}} = Δt'^{2}$"
      ],
      "text/plain": [
       "Eq(Δt**2 - u**2*Δt**2/c**2, Δt'**2)"
      ]
     },
     "execution_count": 5,
     "metadata": {},
     "output_type": "execute_result"
    }
   ],
   "source": [
    "f = sp.Eq(f.args[0]*(1/c**2),f.args[1]*(1/c**2)).expand()\n",
    "f"
   ]
  },
  {
   "cell_type": "markdown",
   "metadata": {},
   "source": [
    "multiplicando os dois lados da igualdades por $ \\frac{1}{ \\Delta t^2} $"
   ]
  },
  {
   "cell_type": "code",
   "execution_count": 6,
   "metadata": {},
   "outputs": [
    {
     "data": {
      "text/latex": [
       "$\\displaystyle 1 - \\frac{u^{2}}{c^{2}} = \\frac{Δt'^{2}}{Δt^{2}}$"
      ],
      "text/plain": [
       "Eq(1 - u**2/c**2, Δt'**2/Δt**2)"
      ]
     },
     "execution_count": 6,
     "metadata": {},
     "output_type": "execute_result"
    }
   ],
   "source": [
    "f = sp.Eq(f.args[0]* 1/Δt**2,(f.args[1]*1/Δt**2)).expand()\n",
    "f"
   ]
  },
  {
   "cell_type": "markdown",
   "metadata": {},
   "source": [
    "tirando a raiz nos dois lados da igualdades"
   ]
  },
  {
   "cell_type": "code",
   "execution_count": 7,
   "metadata": {},
   "outputs": [
    {
     "data": {
      "text/latex": [
       "$\\displaystyle \\sqrt{1 - \\frac{u^{2}}{c^{2}}} = \\sqrt{\\frac{Δt'^{2}}{Δt^{2}}}$"
      ],
      "text/plain": [
       "Eq(sqrt(1 - u**2/c**2), sqrt(Δt'**2/Δt**2))"
      ]
     },
     "execution_count": 7,
     "metadata": {},
     "output_type": "execute_result"
    }
   ],
   "source": [
    "f = sp.Eq(sp.sqrt(f.args[0]),sp.sqrt(f.args[1]))\n",
    "f"
   ]
  },
  {
   "cell_type": "markdown",
   "metadata": {},
   "source": [
    "modulando $| \\Delta t$ |"
   ]
  },
  {
   "cell_type": "code",
   "execution_count": 8,
   "metadata": {},
   "outputs": [],
   "source": [
    "Δt = sp.Abs(Δt)\n",
    "Δtt = sp.Abs(Δtt)"
   ]
  },
  {
   "cell_type": "markdown",
   "metadata": {},
   "source": [
    "aplicando na equação"
   ]
  },
  {
   "cell_type": "code",
   "execution_count": 9,
   "metadata": {},
   "outputs": [
    {
     "data": {
      "text/latex": [
       "$\\displaystyle \\sqrt{1 - \\frac{u^{2}}{c^{2}}} = \\frac{\\left|{Δt'}\\right|}{\\left|{Δt}\\right|}$"
      ],
      "text/plain": [
       "Eq(sqrt(1 - u**2/c**2), Abs(Δt')/Abs(Δt))"
      ]
     },
     "execution_count": 9,
     "metadata": {},
     "output_type": "execute_result"
    }
   ],
   "source": [
    "f = f.subs(\"Δt'\",Δtt).subs(\"Δt\",Δt)\n",
    "f"
   ]
  },
  {
   "cell_type": "markdown",
   "metadata": {},
   "source": [
    "multiplicando os dois lados da igualdades por $\\frac{1}{\\Delta t'}$"
   ]
  },
  {
   "cell_type": "code",
   "execution_count": 10,
   "metadata": {},
   "outputs": [
    {
     "data": {
      "text/latex": [
       "$\\displaystyle \\frac{\\sqrt{1 - \\frac{u^{2}}{c^{2}}}}{\\left|{Δt'}\\right|} = \\frac{1}{\\left|{Δt}\\right|}$"
      ],
      "text/plain": [
       "Eq(sqrt(1 - u**2/c**2)/Abs(Δt'), 1/Abs(Δt))"
      ]
     },
     "execution_count": 10,
     "metadata": {},
     "output_type": "execute_result"
    }
   ],
   "source": [
    "f = sp.Eq(f.args[0]*1/Δtt,f.args[1]*1/Δtt)\n",
    "f"
   ]
  },
  {
   "cell_type": "markdown",
   "metadata": {},
   "source": [
    "elevando os dois lados da igualdade por $ -1 $ e teremos a equação final da dilatação do tempo"
   ]
  },
  {
   "cell_type": "code",
   "execution_count": 11,
   "metadata": {},
   "outputs": [
    {
     "data": {
      "text/latex": [
       "$\\displaystyle \\frac{\\left|{Δt'}\\right|}{\\sqrt{1 - \\frac{u^{2}}{c^{2}}}} = \\left|{Δt}\\right|$"
      ],
      "text/plain": [
       "Eq(Abs(Δt')/sqrt(1 - u**2/c**2), Abs(Δt))"
      ]
     },
     "execution_count": 11,
     "metadata": {},
     "output_type": "execute_result"
    }
   ],
   "source": [
    "f = sp.Eq(f.args[0]**(-1),f.args[1]**(-1))\n",
    "f"
   ]
  },
  {
   "cell_type": "markdown",
   "metadata": {},
   "source": [
    "### Este resultado mostra que o tempo medido pelo observador de dentro da nave é numericamente menor ao tempo do observador de fora da nave"
   ]
  },
  {
   "cell_type": "markdown",
   "metadata": {},
   "source": [
    "# Graficando a dilatação temporal\n",
    "\n",
    "<hr>"
   ]
  },
  {
   "cell_type": "code",
   "execution_count": 12,
   "metadata": {},
   "outputs": [],
   "source": [
    "Δt,Δtt = sp.symbols(\"Δt Δt'\")\n",
    "c,u = sp.symbols(\"c u\")"
   ]
  },
  {
   "cell_type": "code",
   "execution_count": 13,
   "metadata": {},
   "outputs": [
    {
     "data": {
      "text/latex": [
       "$\\displaystyle \\frac{Δt'}{\\sqrt{1 - \\frac{u^{2}}{c^{2}}}}$"
      ],
      "text/plain": [
       "Δt'/sqrt(1 - u**2/c**2)"
      ]
     },
     "execution_count": 13,
     "metadata": {},
     "output_type": "execute_result"
    }
   ],
   "source": [
    "Δt = Δtt/sp.sqrt(1 - (u**2)/(c**2))\n",
    "Δt"
   ]
  },
  {
   "cell_type": "markdown",
   "metadata": {},
   "source": [
    "convertendo a equação para uma função lambda com uso do modulo numpy para tratar os vetores\n",
    "\n",
    "As entradas inseridas pelo usuário serão:\n",
    "\n",
    "    - Δtt -> tempo percebido pelo viajante\n",
    "    - u -> velocidade do viajante\n",
    "    - c -> velocidade da luz"
   ]
  },
  {
   "cell_type": "code",
   "execution_count": 14,
   "metadata": {},
   "outputs": [],
   "source": [
    "T =  sp.lambdify((Δtt,u,c),Δt,\"numpy\")"
   ]
  },
  {
   "cell_type": "code",
   "execution_count": 15,
   "metadata": {},
   "outputs": [
    {
     "data": {
      "text/plain": [
       "180.00000000000006"
      ]
     },
     "execution_count": 15,
     "metadata": {},
     "output_type": "execute_result"
    }
   ],
   "source": [
    "#Teste de função\n",
    "#velocidade do viajante 7 m/s, c = 299 792 458 m/s\n",
    "#observador parado \n",
    "#tempo da viajem 3 minutos = 180 segundos = Δt'\n",
    "#Δt = ?\n",
    "#qual a diferença de tempo entre o observador parado e o viajante?\n",
    "t= 60 * 3\n",
    "T(t,7,299792458)"
   ]
  },
  {
   "cell_type": "markdown",
   "metadata": {},
   "source": [
    "$\\Delta t = 180.00000000000006$\n",
    "\n",
    "A diferença de tempo entre o observador parado e o viajante = $\\Delta t - \\Delta t' = 00000000000006 = 6 \\cdot 10^{-14}$\n",
    "\n",
    "Veja que a diferença entre os tempos em baixa velocidade é desprezível.\n",
    "\n",
    "No gráfico vamos visualizar oque acontece conforme a velocidade do viajante aumenta."
   ]
  },
  {
   "cell_type": "code",
   "execution_count": 16,
   "metadata": {},
   "outputs": [],
   "source": [
    "#quantidades de amostras que queremos para obter o vetor u(velocidades)\n",
    "amostras = 4000\n",
    "###############################\n",
    "#c = 299 792 458 m/s ~= 300.000 km/s ~= 1,079*10^9 km/h\n",
    "c = 300*10**3\n",
    "Δtt = 1 # 1 segundo\n",
    "###############################\n",
    "u = np.linspace(0,c,amostras)\n",
    "v = u[:amostras-1] # retirando o ultimo valor pois o ultipo valor é a propria velocidade da Luz."
   ]
  },
  {
   "cell_type": "code",
   "execution_count": 17,
   "metadata": {},
   "outputs": [],
   "source": [
    "ΔT = T(Δtt,v,c)"
   ]
  },
  {
   "cell_type": "markdown",
   "metadata": {},
   "source": [
    "- no eixo adjacente colocamos as velocidades \n",
    "- no eixo vertical colocamos a variação do tempo para um observador inercial"
   ]
  },
  {
   "cell_type": "code",
   "execution_count": 18,
   "metadata": {},
   "outputs": [
    {
     "data": {
      "text/plain": [
       "[<matplotlib.lines.Line2D at 0x18b1cbd5c88>]"
      ]
     },
     "execution_count": 18,
     "metadata": {},
     "output_type": "execute_result"
    },
    {
     "data": {
      "image/png": "[encoded data removed]",
      "text/plain": [
       "<Figure size 432x288 with 1 Axes>"
      ]
     },
     "metadata": {
      "needs_background": "light"
     },
     "output_type": "display_data"
    }
   ],
   "source": [
    "plt.plot(v,ΔT,'r-')"
   ]
  },
  {
   "cell_type": "markdown",
   "metadata": {},
   "source": [
    "#### conclusão: \n",
    "   - Conforme a velocidade do viajante aumenta, maior é a dilatação do tempo\n",
    "   - Você como viajante em altas velocidades está indo para o futuro mais rápido do que aqueles que fazem parte do referencial inercial.\n",
    "   - A dilatação do tempo tende ao infinito conforme se aproxima da velocidade da luz\n",
    "     - Se v = c temos que :\n",
    "     \n",
    "     - $$ \\Delta t' \\cdot \\frac{1}{\\sqrt{1-\\frac{c^2}{c^2}}} = \\Delta t' \\cdot \\frac{1}{\\sqrt{1-1}} $$\n",
    "     \n",
    "     - $$ \\Delta t' \\cdot \\frac{1}{\\sqrt{1-1}} = \\Delta t' \\cdot \\frac{1}{0}  $$\n",
    "     \n",
    "     - Sabendo que: $$ \\lim_{n \\to 0}\\frac{1}{n} = \\infty $$\n",
    "     \n",
    "     - Temos: $$ \\Delta t' \\cdot \\frac{1}{0} = \\Delta t' \\cdot \\infty = \\infty $$\n",
    "     \n",
    "     - logo: $$ \\Delta t = \\infty$$"
   ]
  },
  {
   "cell_type": "markdown",
   "metadata": {},
   "source": [
    "### Supondo que você sobreviva a uma interação com um campo gravitacional intenso ou percorra em velocidades próximas a da luz sem matar ninguém e consiga perceber o que está ocorrendo a sua volta … \n",
    "- Você vislumbraria a relatividade, viajaria não apenas pelo espaço mas também pelo tempo de maneira mais acelerada que os observadores relativos. Sempre que corre, viaja de avião ou mesmo um simples caminhar te tornas um viajante do tempo, seu corpo não sente essa viajem temporal, pois para você que está “viajando” o tempo continuará passando normalmente más quando se comparar com o meio a sua volta notará as mudanças. Essa relatividade dos tempos para quem está em movimento comparado a quem está como referencial inercial quebra a ideia de que para todas as pessoas o tempo sempre será o mesmo, ou seja um tempo estático. Repensando, o “Tempo é a duração relativa das coisas, que cria no ser humano a ideia de presente, passado e futuro”. Resta então maravilhar-se com a realidade tão estranha de entender quanto um bom livro de ficção.\n",
    "\n",
    "\n",
    "\n",
    "\n",
    "\n",
    "\n",
    "\n",
    "### O video abaixo ilustra dentro das condições estabelecidas acima como seria apreciar tal fenômeno\n",
    "Link para visualizar no Smartphone: https://youtu.be/nvkslTWeFOw"
   ]
  },
  {
   "cell_type": "code",
   "execution_count": 19,
   "metadata": {},
   "outputs": [
    {
     "data": {
      "text/html": [
       "<video src=\"./videos/a_maquina_do_tempo.mp4\" controls  >\n",
       "      Your browser does not support the <code>video</code> element.\n",
       "    </video>"
      ],
      "text/plain": [
       "<IPython.core.display.Video object>"
      ]
     },
     "execution_count": 19,
     "metadata": {},
     "output_type": "execute_result"
    }
   ],
   "source": [
    "import IPython.display as _display\n",
    "_display.Video('./videos/a_maquina_do_tempo.mp4')\n",
    "# Filme: A máquina do tempo\n",
    "# Data de lançamento: 8 de março de 2002 (EUA)\n",
    "# Direção: Simon Wells, Gore Verbinski\n",
    "# Música composta por: Klaus Badelt\n",
    "# Bilheteria: 123,7 milhões USD\n",
    "# Autores: H. G. Wells, David Duncan\n",
    "\n",
    "#OBS:Baseado no Livro: The Time Machine Autor: H. G. Wells, 1895"
   ]
  },
  {
   "cell_type": "markdown",
   "metadata": {},
   "source": [
    "## Atividade:\n",
    "\n",
    "<hr>\n",
    "\n",
    "### múon\n",
    "- Partícula elementar encontrada na atmosfera terrestre\n",
    "\n",
    "- vida_media = $  \\approx 2,2 \\cdot 10^{-6} $\n",
    "- velocidade = $ \\approx 2,994 \\cdot 10^8$\n",
    "- com esse tempo de vida os múons deveriam decair completamente em 650 metros \n",
    "$$ d_{m} = v\\cdot(\\Delta t) \\approx (2,994 \\cdot 10^8 \\frac{m}{s}) \\cdot (2.2\\cdot 10^{-6} s) \\approx 650_{m}$$\n",
    "\n",
    "- Porém são encontrados na superfície da Terra a mais de 10 km de distância de onde foram criadas\n",
    "\n",
    "##  Use seu conhecimento em relatividade para explicar esse fato\n",
    " "
   ]
  },
  {
   "cell_type": "code",
   "execution_count": null,
   "metadata": {},
   "outputs": [],
   "source": []
  }
 ],
 "metadata": {
  "kernelspec": {
   "display_name": "Python 3",
   "language": "python",
   "name": "python3"
  },
  "language_info": {
   "codemirror_mode": {
    "name": "ipython",
    "version": 3
   },
   "file_extension": ".py",
   "mimetype": "text/x-python",
   "name": "python",
   "nbconvert_exporter": "python",
   "pygments_lexer": "ipython3",
   "version": "3.7.3"
  }
 },
 "nbformat": 4,
 "nbformat_minor": 4
}
