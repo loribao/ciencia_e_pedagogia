{
 "cells": [
  {
   "cell_type": "code",
   "execution_count": 1,
   "metadata": {},
   "outputs": [],
   "source": []
  },
  {
   "cell_type": "markdown",
   "metadata": {},
   "source": [
    "Dados:\n",
    "\n",
    "- $$ X^{a'} = \\Lambda^{a'}\\space _{b} \\cdot X^{b} $$\n",
    "\n",
    "- $$ \\begin{pmatrix} ct' \\\\ x' \\\\ y' \\\\ z' \\end{pmatrix} = \\begin{pmatrix} \\gamma & -\\beta\\gamma & 0 & 0 \\\\ -\\beta\\gamma & \\gamma & 0 & 0 \\\\ 0 & 0 & 1 & 0 \\\\ 0 & 0 & 0 & 1 \\end{pmatrix} \\cdot \\begin{pmatrix} ct \\\\ x \\\\ y \\\\ z \\end{pmatrix}$$\n",
    "\n",
    "Onde:\n",
    "\n",
    "- $$ \\beta=\\frac{v}{c}; \\gamma = \\frac{1}{\\sqrt{1-\\beta^{2}}} $$\n",
    "\n",
    "- $$\\Lambda^{a'}\\space _{b} = \\begin{pmatrix} \\gamma & -\\beta\\gamma & 0 & 0 \\\\ -\\beta\\gamma & \\gamma & 0 & 0 \\\\ 0 & 0 & 1 & 0 \\\\ 0 & 0 & 0 & 1 \\end{pmatrix}$$\n",
    "\n",
    "E: $\\Lambda^{a'}\\space _{b}$ e $X^{b}$ estão relacionadas pelas transformações de lorentz: \n",
    "$$ t' = \\lambda(t-\\frac{vx}{c^{2}}); x' = \\lambda(x-vt); y'=y; z'=z $$\n",
    "\n",
    "Prove a forma matricial: $\\Lambda^{a'}\\space _{b}$"
   ]
  },
  {
   "cell_type": "markdown",
   "metadata": {},
   "source": [
    "Resolvendo:"
   ]
  },
  {
   "cell_type": "code",
   "execution_count": 104,
   "metadata": {},
   "outputs": [],
   "source": [
    "from __future__ import division\n",
    "from sympy import *\n",
    "x, y, z, t, v, c,γ,β,t_l,x_l,y_l,z_l = symbols(\"x y z t v c γ β t' x' y' z'\")\n",
    "k, m, n = symbols('k m n', integer=True)\n",
    "f, g, h = symbols('f g h', cls=Function)"
   ]
  },
  {
   "cell_type": "markdown",
   "metadata": {},
   "source": [
    "\n",
    "Expandindo a expressão $ X^{a'} = \\Lambda^{a'}\\space _{b} \\cdot X^{b} $ \n",
    "considerando a convenção da soma de Einstein: \n",
    "\n",
    "$$ X^{0'} = \\Lambda^{0'}\\space _{0} \\cdot X^{0} + \\Lambda^{0'}\\space _{1} \\cdot X^{1} + \\Lambda^{0'}\\space _{2} \\cdot X^{2} + \\Lambda^{0'}\\space _{3} \\cdot X^{3} $$\n",
    "\n",
    "$$ X^{1'} = \\Lambda^{1'}\\space _{0} \\cdot X^{0} + \\Lambda^{1'}\\space _{1} \\cdot X^{1} + \\Lambda^{1'}\\space _{2} \\cdot X^{2} + \\Lambda^{1'}\\space _{3} \\cdot X^{3} $$\n",
    "\n",
    "\n",
    "$$ X^{2'} = \\Lambda^{2'}\\space _{0} \\cdot X^{0} + \\Lambda^{2'}\\space _{1} \\cdot X^{1} + \\Lambda^{2'}\\space _{2} \\cdot X^{2} + \\Lambda^{2'}\\space _{3} \\cdot X^{3} $$\n",
    "\n",
    "$$ X^{3'} = \\Lambda^{3'}\\space _{0} \\cdot X^{0} + \\Lambda^{3'}\\space _{1} \\cdot X^{1} + \\Lambda^{3'}\\space _{2} \\cdot X^{2} + \\Lambda^{3'}\\space _{3} \\cdot X^{3} $$"
   ]
  },
  {
   "cell_type": "code",
   "execution_count": 31,
   "metadata": {},
   "outputs": [],
   "source": [
    "#Escrevendo as Matrizes"
   ]
  },
  {
   "cell_type": "code",
   "execution_count": 44,
   "metadata": {},
   "outputs": [
    {
     "name": "stdout",
     "output_type": "stream",
     "text": [
      "⎡c⋅t'⎤\n",
      "⎢    ⎥\n",
      "⎢ x' ⎥\n",
      "⎢    ⎥\n",
      "⎢ y' ⎥\n",
      "⎢    ⎥\n",
      "⎣ z' ⎦\n",
      "⎡ γ    -β⋅γ  0  0⎤\n",
      "⎢                ⎥\n",
      "⎢-β⋅γ   γ    0  0⎥\n",
      "⎢                ⎥\n",
      "⎢ 0     0    1  0⎥\n",
      "⎢                ⎥\n",
      "⎣ 0     0    0  1⎦\n",
      "⎡c⋅t⎤\n",
      "⎢   ⎥\n",
      "⎢ x ⎥\n",
      "⎢   ⎥\n",
      "⎢ y ⎥\n",
      "⎢   ⎥\n",
      "⎣ z ⎦\n"
     ]
    }
   ],
   "source": [
    "X_linha = Matrix([[c*t_l],[x_l],[y_l],[z_l]])\n",
    "pprint(X_linha)\n",
    "Λ=Matrix([[γ,-β*γ, 0, 0],[-β*γ, γ, 0, 0],[0,0,1,0],[0,0,0,1]])\n",
    "pprint(Λ)\n",
    "X=Matrix([[c*t],[x],[y],[z]])\n",
    "pprint(X)"
   ]
  },
  {
   "cell_type": "code",
   "execution_count": 117,
   "metadata": {},
   "outputs": [
    {
     "data": {
      "text/latex": [
       "$\\displaystyle \\left[\\begin{matrix}c t'\\\\x'\\\\y'\\\\z'\\end{matrix}\\right] = \\left[\\begin{matrix}c t γ - x β γ\\\\- c t β γ + x γ\\\\y\\\\z\\end{matrix}\\right]$"
      ],
      "text/plain": [
       "Eq(Matrix([\n",
       "[c*t'],\n",
       "[  x'],\n",
       "[  y'],\n",
       "[  z']]), Matrix([\n",
       "[ c*t*γ - x*β*γ],\n",
       "[-c*t*β*γ + x*γ],\n",
       "[             y],\n",
       "[             z]]))"
      ]
     },
     "execution_count": 117,
     "metadata": {},
     "output_type": "execute_result"
    }
   ],
   "source": [
    "#Multiplicando Λ por X\n",
    "Eq(X_linha, Λ*X)"
   ]
  },
  {
   "cell_type": "markdown",
   "metadata": {},
   "source": [
    "trabalhando apenas $a' = 0$\n",
    "\n",
    "$$ X^{0'} = \\Lambda^{0'}\\space _{0} \\cdot X^{0} + \\Lambda^{0'}\\space _{1} \\cdot X^{1} + \\Lambda^{0'}\\space _{2} \\cdot X^{2} + \\Lambda^{0'}\\space _{3} \\cdot X^{3}$$\n"
   ]
  },
  {
   "cell_type": "code",
   "execution_count": 148,
   "metadata": {},
   "outputs": [
    {
     "name": "stdout",
     "output_type": "stream",
     "text": [
      "c⋅t' = (c⋅t⋅γ, -x⋅β⋅γ, 0, 0)\n",
      "c⋅t' = c⋅t⋅γ - x⋅β⋅γ\n"
     ]
    }
   ],
   "source": [
    "#Para demonstração escreveremos manualmente\n",
    "pprint(Eq(X_linha[0], (Λ[0,0]*X[0],Λ[0,1]*X[1],Λ[0,2]*X[2],Λ[0,3]*X[3])))\n",
    "pprint(Eq(X_linha[0], (Λ[0,0]*X[0]+Λ[0,1]*X[1]+Λ[0,2]*X[2]+Λ[0,3]*X[3])))\n"
   ]
  },
  {
   "cell_type": "code",
   "execution_count": null,
   "metadata": {},
   "outputs": [],
   "source": [
    "#para a'=0 os termos y,z = 0 e y'=y,z'=z"
   ]
  },
  {
   "cell_type": "code",
   "execution_count": 82,
   "metadata": {},
   "outputs": [
    {
     "data": {
      "text/latex": [
       "$\\displaystyle t' = \\frac{c t γ - x β γ}{c}$"
      ],
      "text/plain": [
       "Eq(t', (c*t*γ - x*β*γ)/c)"
      ]
     },
     "execution_count": 82,
     "metadata": {},
     "output_type": "execute_result"
    }
   ],
   "source": [
    "#multiplicando os dois lados da igualdade por 1/c\n",
    "eq1_t_linha = Eq(X_linha[0]*1/c, (Λ*X)[0]*1/c)\n",
    "eq1_t_linha"
   ]
  },
  {
   "cell_type": "code",
   "execution_count": 102,
   "metadata": {},
   "outputs": [
    {
     "data": {
      "text/latex": [
       "$\\displaystyle t' = \\frac{c t γ - \\frac{v x γ}{c}}{c}$"
      ],
      "text/plain": [
       "Eq(t', (c*t*γ - v*x*γ/c)/c)"
      ]
     },
     "execution_count": 102,
     "metadata": {},
     "output_type": "execute_result"
    }
   ],
   "source": [
    "#espandindo β\n",
    "eq2_t_linha=eq1_t_linha.subs(β,v/c)\n",
    "eq2_t_linha"
   ]
  },
  {
   "cell_type": "code",
   "execution_count": 105,
   "metadata": {},
   "outputs": [
    {
     "data": {
      "text/latex": [
       "$\\displaystyle γ \\left(t - \\frac{v x}{c^{2}}\\right)$"
      ],
      "text/plain": [
       "γ*(t - v*x/c**2)"
      ]
     },
     "execution_count": 105,
     "metadata": {},
     "output_type": "execute_result"
    }
   ],
   "source": [
    "#Temos a equação original para t'\n",
    "factor_terms(solve(eq2_t_linha,t_l))[0]"
   ]
  },
  {
   "cell_type": "markdown",
   "metadata": {},
   "source": [
    "resolução para $X^{1'}$\n",
    "\n",
    "$$ X^{1'} = \\Lambda^{1'}\\space _{0} \\cdot X^{0} + \\Lambda^{1'}\\space _{1} \\cdot X^{1} + \\Lambda^{1'}\\space _{2} \\cdot X^{2} + \\Lambda^{1'}\\space _{3} \\cdot X^{3}$$\n",
    "\n",
    "eq original: \n",
    "\n",
    "$x' = \\lambda(x-vt)$\n"
   ]
  },
  {
   "cell_type": "code",
   "execution_count": 153,
   "metadata": {},
   "outputs": [
    {
     "data": {
      "text/latex": [
       "$\\displaystyle x' = - c t β γ + x γ$"
      ],
      "text/plain": [
       "Eq(x', -c*t*β*γ + x*γ)"
      ]
     },
     "execution_count": 153,
     "metadata": {},
     "output_type": "execute_result"
    }
   ],
   "source": [
    "a=1\n",
    "eq1_linha1 = Eq(X_linha[a], (Λ[a,0]*X[0]+Λ[a,1]*X[1]+Λ[a,2]*X[2]+Λ[a,3]*X[3]))\n",
    "eq1_linha1"
   ]
  },
  {
   "cell_type": "code",
   "execution_count": 160,
   "metadata": {},
   "outputs": [
    {
     "data": {
      "text/latex": [
       "$\\displaystyle x' = - t v γ + x γ$"
      ],
      "text/plain": [
       "Eq(x', -t*v*γ + x*γ)"
      ]
     },
     "execution_count": 160,
     "metadata": {},
     "output_type": "execute_result"
    }
   ],
   "source": [
    "#substituindo β pela equivalencia v/c\n",
    "eq1_linha1.subs(β,v/c)"
   ]
  },
  {
   "cell_type": "code",
   "execution_count": 164,
   "metadata": {},
   "outputs": [
    {
     "data": {
      "text/latex": [
       "$\\displaystyle x' = γ \\left(- t v + x\\right)$"
      ],
      "text/plain": [
       "Eq(x', γ*(-t*v + x))"
      ]
     },
     "execution_count": 164,
     "metadata": {},
     "output_type": "execute_result"
    }
   ],
   "source": [
    "#novamente temos a equação original\n",
    "factor_terms(eq1_linha1.subs(β,v/c),γ)"
   ]
  },
  {
   "cell_type": "code",
   "execution_count": 168,
   "metadata": {},
   "outputs": [
    {
     "data": {
      "text/latex": [
       "$\\displaystyle y' = y$"
      ],
      "text/plain": [
       "Eq(y', y)"
      ]
     },
     "execution_count": 168,
     "metadata": {},
     "output_type": "execute_result"
    }
   ],
   "source": [
    "#para a'=2\n",
    "a=2\n",
    "eq1_linha2 = Eq(X_linha[a], (Λ[a,0]*X[0]+Λ[a,1]*X[1]+Λ[a,2]*X[2]+Λ[a,3]*X[3]))\n",
    "eq1_linha2"
   ]
  },
  {
   "cell_type": "code",
   "execution_count": 169,
   "metadata": {},
   "outputs": [
    {
     "data": {
      "text/latex": [
       "$\\displaystyle z' = z$"
      ],
      "text/plain": [
       "Eq(z', z)"
      ]
     },
     "execution_count": 169,
     "metadata": {},
     "output_type": "execute_result"
    }
   ],
   "source": [
    "#para a'=3\n",
    "a=3\n",
    "eq1_linha3 = Eq(X_linha[a], (Λ[a,0]*X[0]+Λ[a,1]*X[1]+Λ[a,2]*X[2]+Λ[a,3]*X[3]))\n",
    "eq1_linha3"
   ]
  }
 ],
 "metadata": {
  "kernelspec": {
   "display_name": "Python 3",
   "language": "python",
   "name": "python3"
  },
  "language_info": {
   "codemirror_mode": {
    "name": "ipython",
    "version": 3
   },
   "file_extension": ".py",
   "mimetype": "text/x-python",
   "name": "python",
   "nbconvert_exporter": "python",
   "pygments_lexer": "ipython3",
   "version": "3.7.4"
  }
 },
 "nbformat": 4,
 "nbformat_minor": 4
}
